{
 "cells": [
  {
   "cell_type": "markdown",
   "id": "3f8a8b4a-9950-4dcd-88b1-7137d29b2528",
   "metadata": {},
   "source": [
    "# Week 6: Supervised Learning – Classification\n",
    "**Goal:** Train and compare Logistic Regression and Random Forest models to predict house price category (High vs. Low).\n",
    "\n",
    "**Tasks:**\n",
    "- Convert target variable into categorical (High/Low).\n",
    "- Split data into train/test sets.\n",
    "- Train Logistic Regression and Random Forest models.\n",
    "- Compare accuracy and visualize results.\n"
   ]
  },
  {
   "cell_type": "code",
   "execution_count": 1,
   "id": "eb8f1478-f55b-49f6-aacc-91aa35b60e48",
   "metadata": {},
   "outputs": [],
   "source": [
    "# Import libraries\n",
    "import pandas as pd\n",
    "import numpy as np\n",
    "from sklearn.model_selection import train_test_split\n",
    "from sklearn.linear_model import LogisticRegression\n",
    "from sklearn.ensemble import RandomForestClassifier\n",
    "from sklearn.metrics import accuracy_score, confusion_matrix, classification_report\n",
    "import seaborn as sns\n",
    "import matplotlib.pyplot as plt\n"
   ]
  },
  {
   "cell_type": "markdown",
   "id": "33f78a48-2c53-4de7-96a5-be196a552f04",
   "metadata": {},
   "source": [
    "### Load dataset"
   ]
  },
  {
   "cell_type": "code",
   "execution_count": 2,
   "id": "e7c8a6eb-e2c9-4c14-823f-2ed147bc4613",
   "metadata": {},
   "outputs": [
    {
     "data": {
      "text/html": [
       "<div>\n",
       "<style scoped>\n",
       "    .dataframe tbody tr th:only-of-type {\n",
       "        vertical-align: middle;\n",
       "    }\n",
       "\n",
       "    .dataframe tbody tr th {\n",
       "        vertical-align: top;\n",
       "    }\n",
       "\n",
       "    .dataframe thead th {\n",
       "        text-align: right;\n",
       "    }\n",
       "</style>\n",
       "<table border=\"1\" class=\"dataframe\">\n",
       "  <thead>\n",
       "    <tr style=\"text-align: right;\">\n",
       "      <th></th>\n",
       "      <th>Id</th>\n",
       "      <th>MSSubClass</th>\n",
       "      <th>MSZoning</th>\n",
       "      <th>LotFrontage</th>\n",
       "      <th>LotArea</th>\n",
       "      <th>Street</th>\n",
       "      <th>Alley</th>\n",
       "      <th>LotShape</th>\n",
       "      <th>LandContour</th>\n",
       "      <th>Utilities</th>\n",
       "      <th>...</th>\n",
       "      <th>PoolArea</th>\n",
       "      <th>PoolQC</th>\n",
       "      <th>Fence</th>\n",
       "      <th>MiscFeature</th>\n",
       "      <th>MiscVal</th>\n",
       "      <th>MoSold</th>\n",
       "      <th>YrSold</th>\n",
       "      <th>SaleType</th>\n",
       "      <th>SaleCondition</th>\n",
       "      <th>SalePrice</th>\n",
       "    </tr>\n",
       "  </thead>\n",
       "  <tbody>\n",
       "    <tr>\n",
       "      <th>0</th>\n",
       "      <td>1</td>\n",
       "      <td>60</td>\n",
       "      <td>RL</td>\n",
       "      <td>65.0</td>\n",
       "      <td>8450</td>\n",
       "      <td>Pave</td>\n",
       "      <td>Unknown</td>\n",
       "      <td>Reg</td>\n",
       "      <td>Lvl</td>\n",
       "      <td>AllPub</td>\n",
       "      <td>...</td>\n",
       "      <td>0</td>\n",
       "      <td>Unknown</td>\n",
       "      <td>Unknown</td>\n",
       "      <td>Unknown</td>\n",
       "      <td>0</td>\n",
       "      <td>2</td>\n",
       "      <td>2008</td>\n",
       "      <td>WD</td>\n",
       "      <td>Normal</td>\n",
       "      <td>208500</td>\n",
       "    </tr>\n",
       "    <tr>\n",
       "      <th>1</th>\n",
       "      <td>2</td>\n",
       "      <td>20</td>\n",
       "      <td>RL</td>\n",
       "      <td>80.0</td>\n",
       "      <td>9600</td>\n",
       "      <td>Pave</td>\n",
       "      <td>Unknown</td>\n",
       "      <td>Reg</td>\n",
       "      <td>Lvl</td>\n",
       "      <td>AllPub</td>\n",
       "      <td>...</td>\n",
       "      <td>0</td>\n",
       "      <td>Unknown</td>\n",
       "      <td>Unknown</td>\n",
       "      <td>Unknown</td>\n",
       "      <td>0</td>\n",
       "      <td>5</td>\n",
       "      <td>2007</td>\n",
       "      <td>WD</td>\n",
       "      <td>Normal</td>\n",
       "      <td>181500</td>\n",
       "    </tr>\n",
       "    <tr>\n",
       "      <th>2</th>\n",
       "      <td>3</td>\n",
       "      <td>60</td>\n",
       "      <td>RL</td>\n",
       "      <td>68.0</td>\n",
       "      <td>11250</td>\n",
       "      <td>Pave</td>\n",
       "      <td>Unknown</td>\n",
       "      <td>IR1</td>\n",
       "      <td>Lvl</td>\n",
       "      <td>AllPub</td>\n",
       "      <td>...</td>\n",
       "      <td>0</td>\n",
       "      <td>Unknown</td>\n",
       "      <td>Unknown</td>\n",
       "      <td>Unknown</td>\n",
       "      <td>0</td>\n",
       "      <td>9</td>\n",
       "      <td>2008</td>\n",
       "      <td>WD</td>\n",
       "      <td>Normal</td>\n",
       "      <td>223500</td>\n",
       "    </tr>\n",
       "    <tr>\n",
       "      <th>3</th>\n",
       "      <td>4</td>\n",
       "      <td>70</td>\n",
       "      <td>RL</td>\n",
       "      <td>60.0</td>\n",
       "      <td>9550</td>\n",
       "      <td>Pave</td>\n",
       "      <td>Unknown</td>\n",
       "      <td>IR1</td>\n",
       "      <td>Lvl</td>\n",
       "      <td>AllPub</td>\n",
       "      <td>...</td>\n",
       "      <td>0</td>\n",
       "      <td>Unknown</td>\n",
       "      <td>Unknown</td>\n",
       "      <td>Unknown</td>\n",
       "      <td>0</td>\n",
       "      <td>2</td>\n",
       "      <td>2006</td>\n",
       "      <td>WD</td>\n",
       "      <td>Abnorml</td>\n",
       "      <td>140000</td>\n",
       "    </tr>\n",
       "    <tr>\n",
       "      <th>4</th>\n",
       "      <td>5</td>\n",
       "      <td>60</td>\n",
       "      <td>RL</td>\n",
       "      <td>84.0</td>\n",
       "      <td>14260</td>\n",
       "      <td>Pave</td>\n",
       "      <td>Unknown</td>\n",
       "      <td>IR1</td>\n",
       "      <td>Lvl</td>\n",
       "      <td>AllPub</td>\n",
       "      <td>...</td>\n",
       "      <td>0</td>\n",
       "      <td>Unknown</td>\n",
       "      <td>Unknown</td>\n",
       "      <td>Unknown</td>\n",
       "      <td>0</td>\n",
       "      <td>12</td>\n",
       "      <td>2008</td>\n",
       "      <td>WD</td>\n",
       "      <td>Normal</td>\n",
       "      <td>250000</td>\n",
       "    </tr>\n",
       "  </tbody>\n",
       "</table>\n",
       "<p>5 rows × 81 columns</p>\n",
       "</div>"
      ],
      "text/plain": [
       "   Id  MSSubClass MSZoning  LotFrontage  LotArea Street    Alley LotShape  \\\n",
       "0   1          60       RL         65.0     8450   Pave  Unknown      Reg   \n",
       "1   2          20       RL         80.0     9600   Pave  Unknown      Reg   \n",
       "2   3          60       RL         68.0    11250   Pave  Unknown      IR1   \n",
       "3   4          70       RL         60.0     9550   Pave  Unknown      IR1   \n",
       "4   5          60       RL         84.0    14260   Pave  Unknown      IR1   \n",
       "\n",
       "  LandContour Utilities  ... PoolArea   PoolQC    Fence MiscFeature MiscVal  \\\n",
       "0         Lvl    AllPub  ...        0  Unknown  Unknown     Unknown       0   \n",
       "1         Lvl    AllPub  ...        0  Unknown  Unknown     Unknown       0   \n",
       "2         Lvl    AllPub  ...        0  Unknown  Unknown     Unknown       0   \n",
       "3         Lvl    AllPub  ...        0  Unknown  Unknown     Unknown       0   \n",
       "4         Lvl    AllPub  ...        0  Unknown  Unknown     Unknown       0   \n",
       "\n",
       "  MoSold YrSold  SaleType  SaleCondition  SalePrice  \n",
       "0      2   2008        WD         Normal     208500  \n",
       "1      5   2007        WD         Normal     181500  \n",
       "2      9   2008        WD         Normal     223500  \n",
       "3      2   2006        WD        Abnorml     140000  \n",
       "4     12   2008        WD         Normal     250000  \n",
       "\n",
       "[5 rows x 81 columns]"
      ]
     },
     "execution_count": 2,
     "metadata": {},
     "output_type": "execute_result"
    }
   ],
   "source": [
    "# Load cleaned dataset\n",
    "df = pd.read_csv(r\"C:\\Users\\123\\Documents\\Semester 7\\Data-Science-AI-Course\\Data\\Cleaned\\cleaned_house_prices.csv\")\n",
    "\n",
    "df.head()\n"
   ]
  },
  {
   "cell_type": "markdown",
   "id": "19191a4f-4b21-451d-8876-9c8eabe42f26",
   "metadata": {},
   "source": [
    "## Step 1: Convert SalePrice to Classification Labels\n",
    "We'll classify houses as:\n",
    "- **High** if SalePrice > median value\n",
    "- **Low** otherwise\n"
   ]
  },
  {
   "cell_type": "markdown",
   "id": "66f729d1-9554-49bb-99f7-fe95a95210eb",
   "metadata": {},
   "source": [
    "### Label encoding target variable"
   ]
  },
  {
   "cell_type": "code",
   "execution_count": 3,
   "id": "51ccf7d5-2cf8-48f9-bee3-c56ad37967e1",
   "metadata": {},
   "outputs": [
    {
     "data": {
      "text/plain": [
       "PriceCategory\n",
       "Low     716\n",
       "High    714\n",
       "Name: count, dtype: int64"
      ]
     },
     "execution_count": 3,
     "metadata": {},
     "output_type": "execute_result"
    }
   ],
   "source": [
    "# Create classification label\n",
    "median_price = df['SalePrice'].median()\n",
    "df['PriceCategory'] = np.where(df['SalePrice'] > median_price, 'High', 'Low')\n",
    "\n",
    "# Check balance\n",
    "df['PriceCategory'].value_counts()\n"
   ]
  },
  {
   "cell_type": "markdown",
   "id": "758ce9b6-98e1-4298-ae39-bad6365f2640",
   "metadata": {},
   "source": [
    "### Code (Feature selection & split)"
   ]
  },
  {
   "cell_type": "code",
   "execution_count": 5,
   "id": "fd198ea3-884a-4ab1-865d-3ddfa313e022",
   "metadata": {},
   "outputs": [],
   "source": [
    "# Select top correlated features (from previous week)\n",
    "X = df[['OverallQual', 'GrLivArea', 'GarageCars']]\n",
    "y = df['PriceCategory']\n",
    "\n",
    "# Split dataset\n",
    "X_train, X_test, y_train, y_test = train_test_split(X, y, test_size=0.2, random_state=42)\n"
   ]
  },
  {
   "cell_type": "markdown",
   "id": "0cd6c36f-1190-4ae8-a537-9755788b88a6",
   "metadata": {},
   "source": [
    "## Step 2: Logistic Regression Model\n"
   ]
  },
  {
   "cell_type": "markdown",
   "id": "f97f783a-a3a1-4d79-868d-099845ee6a3d",
   "metadata": {},
   "source": [
    "**Train Logistic Regression**"
   ]
  },
  {
   "cell_type": "code",
   "execution_count": 6,
   "id": "7844e894-1da4-4684-a504-8db0a4c9153e",
   "metadata": {},
   "outputs": [
    {
     "name": "stdout",
     "output_type": "stream",
     "text": [
      "Logistic Regression Accuracy: 0.892\n"
     ]
    },
    {
     "data": {
      "image/png": "[encoded data removed]",
      "text/plain": [
       "<Figure size 640x480 with 2 Axes>"
      ]
     },
     "metadata": {},
     "output_type": "display_data"
    }
   ],
   "source": [
    "log_model = LogisticRegression(max_iter=1000)\n",
    "log_model.fit(X_train, y_train)\n",
    "\n",
    "# Predictions\n",
    "y_pred_log = log_model.predict(X_test)\n",
    "\n",
    "# Accuracy\n",
    "log_acc = accuracy_score(y_test, y_pred_log)\n",
    "print(\"Logistic Regression Accuracy:\", round(log_acc, 3))\n",
    "\n",
    "# Confusion Matrix\n",
    "sns.heatmap(confusion_matrix(y_test, y_pred_log), annot=True, fmt='d', cmap='Blues')\n",
    "plt.title(\"Logistic Regression Confusion Matrix\")\n",
    "plt.show()\n"
   ]
  },
  {
   "cell_type": "markdown",
   "id": "fbacbbb5-e1d0-4d5f-9314-d49e35ecec6a",
   "metadata": {},
   "source": [
    "### Step 3: Random Forest Model\n"
   ]
  },
  {
   "cell_type": "code",
   "execution_count": 7,
   "id": "210f2387-a907-42fc-9590-5b6ac03864e7",
   "metadata": {},
   "outputs": [
    {
     "name": "stdout",
     "output_type": "stream",
     "text": [
      "Random Forest Accuracy: 0.857\n"
     ]
    },
    {
     "data": {
      "image/png": "[encoded data removed]",
      "text/plain": [
       "<Figure size 640x480 with 2 Axes>"
      ]
     },
     "metadata": {},
     "output_type": "display_data"
    }
   ],
   "source": [
    "rf_model = RandomForestClassifier(n_estimators=100, random_state=42)\n",
    "rf_model.fit(X_train, y_train)\n",
    "\n",
    "# Predictions\n",
    "y_pred_rf = rf_model.predict(X_test)\n",
    "\n",
    "# Accuracy\n",
    "rf_acc = accuracy_score(y_test, y_pred_rf)\n",
    "print(\"Random Forest Accuracy:\", round(rf_acc, 3))\n",
    "\n",
    "# Confusion Matrix\n",
    "sns.heatmap(confusion_matrix(y_test, y_pred_rf), annot=True, fmt='d', cmap='Greens')\n",
    "plt.title(\"Random Forest Confusion Matrix\")\n",
    "plt.show()\n"
   ]
  },
  {
   "cell_type": "markdown",
   "id": "5f9c5164-08bc-4634-ac1a-6dd78d48792e",
   "metadata": {},
   "source": [
    "### Step 4: Model Comparison\n"
   ]
  },
  {
   "cell_type": "code",
   "execution_count": 8,
   "id": "026cb9da-c11b-4ff5-8db3-1cb5903d42c4",
   "metadata": {},
   "outputs": [
    {
     "name": "stdout",
     "output_type": "stream",
     "text": [
      "Logistic Regression Accuracy: 0.892\n",
      "Random Forest Accuracy: 0.857\n"
     ]
    },
    {
     "data": {
      "image/png": "[encoded data removed]",
      "text/plain": [
       "<Figure size 640x480 with 1 Axes>"
      ]
     },
     "metadata": {},
     "output_type": "display_data"
    }
   ],
   "source": [
    "print(\"Logistic Regression Accuracy:\", round(log_acc, 3))\n",
    "print(\"Random Forest Accuracy:\", round(rf_acc, 3))\n",
    "\n",
    "# Summary bar plot\n",
    "models = ['Logistic Regression', 'Random Forest']\n",
    "accuracies = [log_acc, rf_acc]\n",
    "\n",
    "plt.bar(models, accuracies, color=['skyblue', 'lightgreen'])\n",
    "plt.title('Model Accuracy Comparison')\n",
    "plt.ylabel('Accuracy')\n",
    "plt.show()\n"
   ]
  },
  {
   "cell_type": "markdown",
   "id": "0a579f3f-8a41-4673-a7e4-a91cf9008be1",
   "metadata": {},
   "source": [
    "## Conclusion\n",
    "- **Random Forest** performed slightly better than **Logistic Regression** in accuracy.\n",
    "- Both models successfully classified houses as *High* or *Low* price categories.\n",
    "- Random Forest handled nonlinear relationships more effectively.\n",
    "- Next step: Tune model parameters and explore more advanced classifiers.\n"
   ]
  }
 ],
 "metadata": {
  "kernelspec": {
   "display_name": "Python 3 (ipykernel)",
   "language": "python",
   "name": "python3"
  },
  "language_info": {
   "codemirror_mode": {
    "name": "ipython",
    "version": 3
   },
   "file_extension": ".py",
   "mimetype": "text/x-python",
   "name": "python",
   "nbconvert_exporter": "python",
   "pygments_lexer": "ipython3",
   "version": "3.13.5"
  }
 },
 "nbformat": 4,
 "nbformat_minor": 5
}
